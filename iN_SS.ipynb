{
 "cells": [
  {
   "cell_type": "markdown",
   "metadata": {},
   "source": [
    "# My tests of iNaturalist API"
   ]
  },
  {
   "cell_type": "markdown",
   "metadata": {},
   "source": [
    "## import observation from iNaturalist"
   ]
  },
  {
   "cell_type": "code",
   "execution_count": 5,
   "metadata": {},
   "outputs": [
    {
     "data": {
      "text/plain": [
       "[50.04878863, 19.84250268]"
      ]
     },
     "execution_count": 5,
     "metadata": {},
     "output_type": "execute_result"
    }
   ],
   "source": [
    "import requests  # https://realpython.com/python-requests/ - lib for requests\n",
    "\n",
    "# my observation\n",
    "url = \"https://api.inaturalist.org/v1/observations?id=72266225\"\n",
    "\n",
    "# r - response\n",
    "r = requests.get(url)\n",
    "\n",
    "# print and convert from jason to dict.\n",
    "#print(r.json())\n",
    "\n",
    "#location from tekst do list\n",
    "# l - location\n",
    "#print(r.json()['results'][0]['location']) \n",
    "l = [float(r.json()['results'][0]['location'].split(\",\")[0]),float(r.json()['results'][0]['location'].split(\",\")[1])]\n",
    "l"
   ]
  },
  {
   "cell_type": "markdown",
   "metadata": {},
   "source": [
    "## define map and marker"
   ]
  },
  {
   "cell_type": "code",
   "execution_count": 22,
   "metadata": {},
   "outputs": [
    {
     "data": {
      "application/vnd.jupyter.widget-view+json": {
       "model_id": "14f03357c7524c18a6503d78fa3b3ff8",
       "version_major": 2,
       "version_minor": 0
      },
      "text/plain": [
       "Map(center=[50.04878863, 19.84250268], controls=(ZoomControl(options=['position', 'zoom_in_text', 'zoom_in_tit…"
      ]
     },
     "metadata": {},
     "output_type": "display_data"
    }
   ],
   "source": [
    "# ipyleaflet in anaconda https://anaconda.org/conda-forge/ipyleaflet\n",
    "from ipyleaflet import Map, Marker\n",
    "\n",
    "#parameters for map\n",
    "center = l\n",
    "zoom = 15\n",
    "\n",
    "#map object\n",
    "m = Map(center=center, zoom=zoom)\n",
    "\n",
    "#define and add marker\n",
    "marker = Marker(location=center, draggable=False)\n",
    "m.add_layer(marker);\n",
    "\n",
    "#add map\n",
    "m"
   ]
  },
  {
   "cell_type": "markdown",
   "metadata": {},
   "source": [
    "## [vip] add geoJSON point"
   ]
  },
  {
   "cell_type": "code",
   "execution_count": 20,
   "metadata": {},
   "outputs": [
    {
     "data": {
      "text/plain": [
       "'{\"coordinates\": [50.048789, 19.842503], \"type\": \"Point\"}'"
      ]
     },
     "execution_count": 20,
     "metadata": {},
     "output_type": "execute_result"
    }
   ],
   "source": [
    "#geojson in anaconda - https://anaconda.org/conda-forge/geojson\n",
    "from geojson import Point\n",
    "data1 = Point((l[:]))\n",
    "\n",
    "str(data1)\n",
    "#p2 = gs(data1=data)\n",
    "#p2\n",
    "#m.add_layer(data)\n"
   ]
  }
 ],
 "metadata": {
  "kernelspec": {
   "display_name": "Python 3",
   "language": "python",
   "name": "python3"
  },
  "language_info": {
   "codemirror_mode": {
    "name": "ipython",
    "version": 3
   },
   "file_extension": ".py",
   "mimetype": "text/x-python",
   "name": "python",
   "nbconvert_exporter": "python",
   "pygments_lexer": "ipython3",
   "version": "3.8.5"
  }
 },
 "nbformat": 4,
 "nbformat_minor": 4
}
