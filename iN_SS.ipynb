{
 "cells": [
  {
   "cell_type": "markdown",
   "metadata": {},
   "source": [
    "# My tests of iNaturalist API"
   ]
  },
  {
   "cell_type": "markdown",
   "metadata": {},
   "source": [
    "## import observation from iNaturalist"
   ]
  },
  {
   "cell_type": "code",
   "execution_count": 2,
   "metadata": {},
   "outputs": [
    {
     "data": {
      "text/plain": [
       "[50.04878863, 19.84250268]"
      ]
     },
     "execution_count": 2,
     "metadata": {},
     "output_type": "execute_result"
    }
   ],
   "source": [
    "import requests  # https://realpython.com/python-requests/ - lib for requests\n",
    "import time\n",
    "from ipyleaflet import Map, Marker, GeoJSON, basemaps # ipyleaflet in anaconda https://anaconda.org/conda-forge/ipyleaflet\n",
    "from geojson import MultiPoint, Feature, FeatureCollection #geojson in anaconda - https://anaconda.org/conda-forge/geojson\n",
    "\n",
    "\n",
    "# my observation\n",
    "url = \"https://api.inaturalist.org/v1/observations?id=72266225\"\n",
    "\n",
    "# r1 - response\n",
    "r1 = requests.get(url)\n",
    "\n",
    "# print and convert from jason to dict.\n",
    "#print(r.json())\n",
    "\n",
    "#location from tekst do list\n",
    "# l - location # lon, lat \n",
    "#print(r.json()['results'][0]['location']) \n",
    "l = [float(r1.json()['results'][0]['location'].split(\",\")[0]),float(r1.json()['results'][0]['location'].split(\",\")[1])]\n",
    "l"
   ]
  },
  {
   "cell_type": "markdown",
   "metadata": {},
   "source": [
    "## define map and marker"
   ]
  },
  {
   "cell_type": "code",
   "execution_count": 3,
   "metadata": {},
   "outputs": [
    {
     "data": {
      "application/vnd.jupyter.widget-view+json": {
       "model_id": "835f7de416bb445a861d08c0c04b449f",
       "version_major": 2,
       "version_minor": 0
      },
      "text/plain": [
       "Map(center=[50.04878863, 19.84250268], controls=(ZoomControl(options=['position', 'zoom_in_text', 'zoom_in_tit…"
      ]
     },
     "metadata": {},
     "output_type": "display_data"
    }
   ],
   "source": [
    "#parameters for map\n",
    "center = l\n",
    "zoom = 15\n",
    "\n",
    "#map object\n",
    "m = Map(center=center, zoom=zoom)\n",
    "\n",
    "#define and add marker\n",
    "marker = Marker(location=center, draggable=False)\n",
    "m.add_layer(marker);\n",
    "\n",
    "#add map\n",
    "m\n",
    "\n",
    "#to jest testowa linijka"
   ]
  },
  {
   "cell_type": "markdown",
   "metadata": {},
   "source": [
    "## add geoJSON point"
   ]
  },
  {
   "cell_type": "code",
   "execution_count": 126,
   "metadata": {
    "scrolled": false
   },
   "outputs": [
    {
     "data": {
      "application/vnd.jupyter.widget-view+json": {
       "model_id": "0858680b8af94036a9f4c92895df3222",
       "version_major": 2,
       "version_minor": 0
      },
      "text/plain": [
       "Map(center=[50.04878863, 19.84250268], controls=(ZoomControl(options=['position', 'zoom_in_text', 'zoom_in_tit…"
      ]
     },
     "metadata": {},
     "output_type": "display_data"
    }
   ],
   "source": [
    "#  !!!!!! Attention ! for unknown reasons ipyleaflet needs changed coordinates in MultiPoint !!!!!\n",
    "# https://github.com/jupyter-widgets/ipyleaflet/pull/439#issuecomment-658030755\n",
    "# definition of geoJSON - simple point :)\n",
    "data1 = FeatureCollection( [ Feature ( geometry=MultiPoint( [(l[::-1])] ) ) ] )\n",
    "\n",
    "#print(data1)\n",
    "\n",
    "'''\n",
    "#optional saving to file\n",
    "#import json #optional saving to file\n",
    "if not os.path.exists('myobserv.json'):\n",
    "    with open('myobserv.json', 'w') as f:\n",
    "        f.writelines(str(data1))\n",
    "\n",
    "with open('myobserv.json', 'r') as f:\n",
    "    data = json.load(f)\n",
    "print(data)\n",
    "'''\n",
    "\n",
    "#ipyleaflet GeoJSON layer\n",
    "geo_json = GeoJSON(data=data1, point_style={'radius': 5, 'color': 'red', 'fillOpacity': 0.8, 'fillColor': 'blue', 'weight': 3})\n",
    "\n",
    "#print(geo_json1)\n",
    "\n",
    "m2 = Map(center=center, zoom=zoom)\n",
    "m2.add_layer(geo_json)\n",
    "\n",
    "m2"
   ]
  },
  {
   "cell_type": "markdown",
   "metadata": {},
   "source": [
    "## Get place id from iN"
   ]
  },
  {
   "cell_type": "code",
   "execution_count": 127,
   "metadata": {},
   "outputs": [
    {
     "name": "stdout",
     "output_type": "stream",
     "text": [
      "Place name: Poland , Place ID:  7800\n"
     ]
    }
   ],
   "source": [
    "#------------------------------\n",
    "# import place id from iN\n",
    "place_type = \"Country\" #Type of place to retrieve\n",
    "q = \"Poland\" #query value\n",
    "\n",
    "url_q = \"https://www.inaturalist.org/places.json?place_type=\" + place_type + \"&q=\" + q\n",
    "#print(url_q)\n",
    "\n",
    "# r - response with place atributes (without geometry -> query)\n",
    "r = requests.get(url_q)\n",
    "#print(r.json())\n",
    "\n",
    "place_id = r.json()[0]['id']\n",
    "#print(place_id)\n",
    "\n",
    "# import observations for spec. taxon and spec. place\n",
    "#------------------------------\n",
    "\n",
    "print(\"Place name:\", q, \", Place ID: \", place_id)"
   ]
  },
  {
   "cell_type": "markdown",
   "metadata": {},
   "source": [
    "## Get observation from iN"
   ]
  },
  {
   "cell_type": "code",
   "execution_count": 128,
   "metadata": {},
   "outputs": [
    {
     "name": "stdout",
     "output_type": "stream",
     "text": [
      "Results: 600 ,  21  pages total\n",
      "Retrieving page  https://api.inaturalist.org/v1/observations? page 1\n",
      "Retrieving page  https://api.inaturalist.org/v1/observations? page 2\n",
      "Retrieving page  https://api.inaturalist.org/v1/observations? page 3\n",
      "Retrieving page  https://api.inaturalist.org/v1/observations? page 4\n",
      "Retrieving page  https://api.inaturalist.org/v1/observations? page 5\n",
      "Retrieving page  https://api.inaturalist.org/v1/observations? page 6\n",
      "Retrieving page  https://api.inaturalist.org/v1/observations? page 7\n",
      "Retrieving page  https://api.inaturalist.org/v1/observations? page 8\n",
      "Retrieving page  https://api.inaturalist.org/v1/observations? page 9\n",
      "Retrieving page  https://api.inaturalist.org/v1/observations? page 10\n",
      "Retrieving page  https://api.inaturalist.org/v1/observations? page 11\n",
      "Retrieving page  https://api.inaturalist.org/v1/observations? page 12\n",
      "Retrieving page  https://api.inaturalist.org/v1/observations? page 13\n",
      "Retrieving page  https://api.inaturalist.org/v1/observations? page 14\n",
      "Retrieving page  https://api.inaturalist.org/v1/observations? page 15\n",
      "Retrieving page  https://api.inaturalist.org/v1/observations? page 16\n",
      "Retrieving page  https://api.inaturalist.org/v1/observations? page 17\n",
      "Retrieving page  https://api.inaturalist.org/v1/observations? page 18\n",
      "Retrieving page  https://api.inaturalist.org/v1/observations? page 19\n",
      "Retrieving page  https://api.inaturalist.org/v1/observations? page 20\n",
      "Retrieving page  https://api.inaturalist.org/v1/observations? page 21\n",
      "---END---\n"
     ]
    }
   ],
   "source": [
    "# Anemonoides nemorosa in Poland\n",
    "# get observation from iN\n",
    "\n",
    "\n",
    "t = \"Anemonoides nemorosa\" #taxon name\n",
    "\n",
    "url_t = \"https://api.inaturalist.org/v1/observations?\"\n",
    "query_params = {\"place_id\":place_id, \"taxon_name\":t, \"page\": 1  }\n",
    "\n",
    "#rt = requests.get(url_t, params=query_params)\n",
    "#print(rt.json()[\"total_results\"])\n",
    "\n",
    "obs = []  #observations\n",
    "\n",
    "#----------\n",
    "# inspiracion ane while loop :https://github.com/AgentschapPlantentuinMeise/iNatBioblitzes/blob/main/inat.ipynb\n",
    "#----------\n",
    "\n",
    "page = 1\n",
    "while True:\n",
    "    \n",
    "    #rt - object with observations from one page\n",
    "    rt = requests.get(url_t, params=query_params)\n",
    "\n",
    "    if page > num_pages: \n",
    "        print(\"---END---\")\n",
    "        break\n",
    "    \n",
    "    if page == 1:\n",
    "        num_pages = rt.json()[\"total_results\"] // rt.json()[\"per_page\"] + 1\n",
    "\n",
    "        print(\"Results:\", rt.json()[\"total_results\"], \", \", num_pages, \" pages total\")\n",
    "    \n",
    "    print(\"Retrieving page \", url_t + \" page \" + str(page))\n",
    "    page += 1\n",
    "    query_params[\"page\"] = page\n",
    "    \n",
    "    for i in rt.json()[\"results\"]:\n",
    "        l = [ float(k) for k in i['location'].split(\",\") ]\n",
    "        t = tuple(l[::-1] )\n",
    "        obs.append( t )\n",
    "        \n",
    "    #print(t)\n",
    "\n",
    "    time.sleep(1)\n"
   ]
  },
  {
   "cell_type": "markdown",
   "metadata": {},
   "source": [
    "## Interactive map of iN observations"
   ]
  },
  {
   "cell_type": "code",
   "execution_count": 129,
   "metadata": {
    "scrolled": true
   },
   "outputs": [
    {
     "data": {
      "application/vnd.jupyter.widget-view+json": {
       "model_id": "209df8382be9482c9cc083d2917c222f",
       "version_major": 2,
       "version_minor": 0
      },
      "text/plain": [
       "Map(center=[52.1482338661, 19.3788685716], controls=(ZoomControl(options=['position', 'zoom_in_text', 'zoom_in…"
      ]
     },
     "metadata": {},
     "output_type": "display_data"
    }
   ],
   "source": [
    "#Anemonoides nemorosa in Poland\n",
    "#vizualization\n",
    "\n",
    "#for i in range(10): print(obs[i])   #test firs 10 values\n",
    "    \n",
    "    \n",
    "map_center = [ float(i) for i in [ r.json()[0]['latitude'], r.json()[0]['longitude'] ] ] \n",
    "#print(map_center)\n",
    "\n",
    "m_poland = Map(basemap=basemaps.CartoDB.Positron, center=map_center, zoom=5)\n",
    "\n",
    "#geoJSON object from observationns\n",
    "geo_obs = FeatureCollection( [ Feature ( geometry=MultiPoint( obs ) ) ] )\n",
    "\n",
    "#ipyleaflet GeoJSON layer\n",
    "geo_json = GeoJSON(data=geo_obs, point_style={'radius': 5, 'fillOpacity': 1, 'fillColor': 'green', 'weight': 0})\n",
    "\n",
    "m_poland.add_layer(geo_json )\n",
    "\n",
    "m_poland\n"
   ]
  },
  {
   "cell_type": "code",
   "execution_count": 130,
   "metadata": {},
   "outputs": [
    {
     "data": {
      "application/vnd.jupyter.widget-view+json": {
       "model_id": "8a7982b43f454843a99f2fd15b95a4d4",
       "version_major": 2,
       "version_minor": 0
      },
      "text/plain": [
       "Map(center=[50.6252978589571, 0.34580993652344], controls=(ZoomControl(options=['position', 'zoom_in_text', 'z…"
      ]
     },
     "metadata": {},
     "output_type": "display_data"
    }
   ],
   "source": [
    "#example from documentation\n",
    "#https://ipyleaflet.readthedocs.io/en/latest/api_reference/geo_json.html\n",
    "\n",
    "import os\n",
    "import json\n",
    "import random\n",
    "import requests\n",
    "\n",
    "from ipyleaflet import Map, GeoJSON\n",
    "\n",
    "if not os.path.exists('europe_110.geo.json'):\n",
    "    url = 'https://github.com/jupyter-widgets/ipyleaflet/raw/master/examples/europe_110.geo.json'\n",
    "    r = requests.get(url)\n",
    "    with open('europe_110.geo.json', 'w') as f:\n",
    "        f.write(r.content.decode(\"utf-8\"))\n",
    "\n",
    "with open('europe_110.geo.json', 'r') as f:\n",
    "    data = json.load(f)\n",
    "\n",
    "def random_color(feature):\n",
    "    return {\n",
    "        'color': 'black',\n",
    "        'fillColor': random.choice(['red', 'yellow', 'green', 'orange']),\n",
    "    }\n",
    "\n",
    "m = Map(center=(50.6252978589571, 0.34580993652344), zoom=3)\n",
    "\n",
    "#print(data)\n",
    "\n",
    "\n",
    "geo_json = GeoJSON(\n",
    "    data=data,\n",
    "    style={\n",
    "        'opacity': 1, 'dashArray': '9', 'fillOpacity': 0.1, 'weight': 1\n",
    "    },\n",
    "    hover_style={\n",
    "        'color': 'white', 'dashArray': '0', 'fillOpacity': 0.5\n",
    "    },\n",
    "    style_callback=random_color\n",
    ")\n",
    "m.add_layer(geo_json)\n",
    "\n",
    "m\n"
   ]
  },
  {
   "cell_type": "code",
   "execution_count": 131,
   "metadata": {},
   "outputs": [
    {
     "data": {
      "application/vnd.jupyter.widget-view+json": {
       "model_id": "ac72f4cb9e6a4a90832edb6ba0fb4472",
       "version_major": 2,
       "version_minor": 0
      },
      "text/plain": [
       "Map(center=[46.91, 7.43], controls=(ZoomControl(options=['position', 'zoom_in_text', 'zoom_in_title', 'zoom_ou…"
      ]
     },
     "metadata": {},
     "output_type": "display_data"
    }
   ],
   "source": [
    "# https://github.com/jupyter-widgets/ipyleaflet/pull/439#issuecomment-658030755\n",
    "\n",
    "from ipyleaflet import Map, GeoJSON\n",
    "m3 = Map(basemap=basemaps.OpenStreetMap.BlackAndWhite, center=(46.91, 7.43), zoom=17)\n",
    "\n",
    "d = {\n",
    "  \"type\": \"FeatureCollection\",\n",
    "  \"features\": [\n",
    "    {\n",
    "      \"type\": \"Feature\",\n",
    "      \"properties\": {},\n",
    "      \"geometry\": {\n",
    "        \"type\": \"MultiPoint\",\n",
    "        \"coordinates\": [\n",
    "          [\n",
    "            7.43, 46.91\n",
    "          ]\n",
    "        ]\n",
    "      }\n",
    "    }\n",
    "  ]\n",
    "}\n",
    "\n",
    "geo_json = GeoJSON(data=d, point_style={'radius': 5, 'fillOpacity': 0.5, 'fillColor': 'green', 'weight': 0})\n",
    "m3.add_layer(geo_json)\n",
    "m3"
   ]
  },
  {
   "cell_type": "code",
   "execution_count": null,
   "metadata": {},
   "outputs": [],
   "source": []
  }
 ],
 "metadata": {
  "kernelspec": {
   "display_name": "Python 3",
   "language": "python",
   "name": "python3"
  },
  "language_info": {
   "codemirror_mode": {
    "name": "ipython",
    "version": 3
   },
   "file_extension": ".py",
   "mimetype": "text/x-python",
   "name": "python",
   "nbconvert_exporter": "python",
   "pygments_lexer": "ipython3",
   "version": "3.8.5"
  }
 },
 "nbformat": 4,
 "nbformat_minor": 4
}
