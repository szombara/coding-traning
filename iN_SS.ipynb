{
 "cells": [
  {
   "cell_type": "markdown",
   "metadata": {},
   "source": [
    "# My tests of iNaturalist API"
   ]
  },
  {
   "cell_type": "markdown",
   "metadata": {},
   "source": [
    "## import observation from iNaturalist"
   ]
  },
  {
   "cell_type": "code",
   "execution_count": 1,
   "metadata": {},
   "outputs": [
    {
     "data": {
      "text/plain": [
       "[50.04878863, 19.84250268]"
      ]
     },
     "execution_count": 1,
     "metadata": {},
     "output_type": "execute_result"
    }
   ],
   "source": [
    "import requests  # https://realpython.com/python-requests/ - lib for requests\n",
    "\n",
    "# my observation\n",
    "url = \"https://api.inaturalist.org/v1/observations?id=72266225\"\n",
    "\n",
    "# r - response\n",
    "r = requests.get(url)\n",
    "\n",
    "# print and convert from jason to dict.\n",
    "#print(r.json())\n",
    "\n",
    "#location from tekst do list\n",
    "# l - location # lon, lat \n",
    "#print(r.json()['results'][0]['location']) \n",
    "l = [float(r.json()['results'][0]['location'].split(\",\")[0]),float(r.json()['results'][0]['location'].split(\",\")[1])]\n",
    "l"
   ]
  },
  {
   "cell_type": "markdown",
   "metadata": {},
   "source": [
    "## define map and marker"
   ]
  },
  {
   "cell_type": "code",
   "execution_count": 56,
   "metadata": {},
   "outputs": [
    {
     "data": {
      "application/vnd.jupyter.widget-view+json": {
       "model_id": "c1942370818244ea85aa480085a4da8d",
       "version_major": 2,
       "version_minor": 0
      },
      "text/plain": [
       "Map(center=[50.04878863, 19.84250268], controls=(ZoomControl(options=['position', 'zoom_in_text', 'zoom_in_tit…"
      ]
     },
     "metadata": {},
     "output_type": "display_data"
    }
   ],
   "source": [
    "# ipyleaflet in anaconda https://anaconda.org/conda-forge/ipyleaflet\n",
    "from ipyleaflet import Map, Marker\n",
    "\n",
    "#parameters for map\n",
    "center = l\n",
    "zoom = 15\n",
    "\n",
    "#map object\n",
    "m = Map(center=center, zoom=zoom)\n",
    "\n",
    "#define and add marker\n",
    "marker = Marker(location=center, draggable=False)\n",
    "m.add_layer(marker);\n",
    "\n",
    "#add map\n",
    "m"
   ]
  },
  {
   "cell_type": "markdown",
   "metadata": {},
   "source": [
    "## add geoJSON point"
   ]
  },
  {
   "cell_type": "code",
   "execution_count": 104,
   "metadata": {
    "scrolled": false
   },
   "outputs": [
    {
     "data": {
      "application/vnd.jupyter.widget-view+json": {
       "model_id": "a6b240051f45420e8797b20a8c3671d6",
       "version_major": 2,
       "version_minor": 0
      },
      "text/plain": [
       "Map(center=[50.04878863, 19.84250268], controls=(ZoomControl(options=['position', 'zoom_in_text', 'zoom_in_tit…"
      ]
     },
     "metadata": {},
     "output_type": "display_data"
    }
   ],
   "source": [
    "#geojson in anaconda - https://anaconda.org/conda-forge/geojson\n",
    "from geojson import MultiPoint, Feature, FeatureCollection\n",
    "from ipyleaflet import GeoJSON\n",
    "\n",
    "#import json #optional saving to file\n",
    "\n",
    "#  !!!!!! Attention ! for unknown reasons ipyleaflet needs changed coordinates in MultiPoint !!!!!\n",
    "# https://github.com/jupyter-widgets/ipyleaflet/pull/439#issuecomment-658030755\n",
    "# definition of geoJSON - simple point :)\n",
    "data1 = FeatureCollection( [ Feature ( geometry=MultiPoint( [(l[::-1])] ) ) ] )\n",
    "\n",
    "#print(data1)\n",
    "\n",
    "\n",
    "#optional saving to file\n",
    "'''if not os.path.exists('myobserv.json'):\n",
    "    with open('myobserv.json', 'w') as f:\n",
    "        f.writelines(str(data1))\n",
    "\n",
    "with open('myobserv.json', 'r') as f:\n",
    "    data = json.load(f)\n",
    "print(data)\n",
    "'''\n",
    "\n",
    "#ipyleaflet GeoJSON layer\n",
    "geo_json = GeoJSON(data=data1, point_style={'radius': 5, 'color': 'red', 'fillOpacity': 0.8, 'fillColor': 'blue', 'weight': 3})\n",
    "\n",
    "#print(geo_json1)\n",
    "\n",
    "m2 = Map(center=center, zoom=zoom)\n",
    "m2.add_layer(geo_json)\n",
    "\n",
    "m2"
   ]
  },
  {
   "cell_type": "code",
   "execution_count": 101,
   "metadata": {},
   "outputs": [
    {
     "data": {
      "application/vnd.jupyter.widget-view+json": {
       "model_id": "53eb6cb4ba1e45ff8f97f3174322df34",
       "version_major": 2,
       "version_minor": 0
      },
      "text/plain": [
       "Map(center=[50.6252978589571, 0.34580993652344], controls=(ZoomControl(options=['position', 'zoom_in_text', 'z…"
      ]
     },
     "metadata": {},
     "output_type": "display_data"
    }
   ],
   "source": [
    "#example from documentation\n",
    "#https://ipyleaflet.readthedocs.io/en/latest/api_reference/geo_json.html\n",
    "\n",
    "import os\n",
    "import json\n",
    "import random\n",
    "import requests\n",
    "\n",
    "from ipyleaflet import Map, GeoJSON\n",
    "\n",
    "if not os.path.exists('europe_110.geo.json'):\n",
    "    url = 'https://github.com/jupyter-widgets/ipyleaflet/raw/master/examples/europe_110.geo.json'\n",
    "    r = requests.get(url)\n",
    "    with open('europe_110.geo.json', 'w') as f:\n",
    "        f.write(r.content.decode(\"utf-8\"))\n",
    "\n",
    "with open('europe_110.geo.json', 'r') as f:\n",
    "    data = json.load(f)\n",
    "\n",
    "def random_color(feature):\n",
    "    return {\n",
    "        'color': 'black',\n",
    "        'fillColor': random.choice(['red', 'yellow', 'green', 'orange']),\n",
    "    }\n",
    "\n",
    "m = Map(center=(50.6252978589571, 0.34580993652344), zoom=3)\n",
    "\n",
    "#print(data)\n",
    "\n",
    "\n",
    "geo_json = GeoJSON(\n",
    "    data=data,\n",
    "    style={\n",
    "        'opacity': 1, 'dashArray': '9', 'fillOpacity': 0.1, 'weight': 1\n",
    "    },\n",
    "    hover_style={\n",
    "        'color': 'white', 'dashArray': '0', 'fillOpacity': 0.5\n",
    "    },\n",
    "    style_callback=random_color\n",
    ")\n",
    "m.add_layer(geo_json)\n",
    "\n",
    "m\n"
   ]
  },
  {
   "cell_type": "code",
   "execution_count": 102,
   "metadata": {},
   "outputs": [
    {
     "data": {
      "application/vnd.jupyter.widget-view+json": {
       "model_id": "81beb77fa11b4fc3b3ed7d9690a69112",
       "version_major": 2,
       "version_minor": 0
      },
      "text/plain": [
       "Map(center=[46.91, 7.43], controls=(ZoomControl(options=['position', 'zoom_in_text', 'zoom_in_title', 'zoom_ou…"
      ]
     },
     "metadata": {},
     "output_type": "display_data"
    }
   ],
   "source": [
    "# https://github.com/jupyter-widgets/ipyleaflet/pull/439#issuecomment-658030755\n",
    "\n",
    "from ipyleaflet import Map, GeoJSON\n",
    "m3 = Map(center=(46.91, 7.43), zoom=17)\n",
    "\n",
    "d = {\n",
    "  \"type\": \"FeatureCollection\",\n",
    "  \"features\": [\n",
    "    {\n",
    "      \"type\": \"Feature\",\n",
    "      \"properties\": {},\n",
    "      \"geometry\": {\n",
    "        \"type\": \"MultiPoint\",\n",
    "        \"coordinates\": [\n",
    "          [\n",
    "            7.43, 46.91\n",
    "          ]\n",
    "        ]\n",
    "      }\n",
    "    }\n",
    "  ]\n",
    "}\n",
    "\n",
    "geo_json = GeoJSON(data=d, point_style={'radius': 5, 'color': 'red', 'fillOpacity': 0.8, 'fillColor': 'blue', 'weight': 3})\n",
    "m3.add_layer(geo_json)\n",
    "m3"
   ]
  },
  {
   "cell_type": "code",
   "execution_count": null,
   "metadata": {},
   "outputs": [],
   "source": []
  }
 ],
 "metadata": {
  "kernelspec": {
   "display_name": "Python 3",
   "language": "python",
   "name": "python3"
  },
  "language_info": {
   "codemirror_mode": {
    "name": "ipython",
    "version": 3
   },
   "file_extension": ".py",
   "mimetype": "text/x-python",
   "name": "python",
   "nbconvert_exporter": "python",
   "pygments_lexer": "ipython3",
   "version": "3.8.5"
  }
 },
 "nbformat": 4,
 "nbformat_minor": 4
}
